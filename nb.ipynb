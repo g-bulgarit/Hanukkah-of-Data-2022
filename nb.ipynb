{
 "cells": [
  {
   "cell_type": "code",
   "execution_count": 2,
   "metadata": {},
   "outputs": [],
   "source": [
    "import pandas as pd"
   ]
  },
  {
   "cell_type": "code",
   "execution_count": 60,
   "metadata": {},
   "outputs": [],
   "source": [
    "# Load our file\n",
    "try:\n",
    "    with open(\"noahs-customers.csv\", \"r\") as rfp:\n",
    "        df = pd.read_csv(rfp)\n",
    "except FileNotFoundError:\n",
    "    print(\"Failed to open the file.\")\n"
   ]
  },
  {
   "attachments": {},
   "cell_type": "markdown",
   "metadata": {},
   "source": [
    "# Day 1"
   ]
  },
  {
   "cell_type": "code",
   "execution_count": 123,
   "metadata": {},
   "outputs": [],
   "source": [
    "t9_lookup = {\n",
    "    \"ABC\" : \"2\",\n",
    "    \"DEF\" : \"3\",\n",
    "    \"GHI\" : \"4\",\n",
    "    \"JKL\" : \"5\",\n",
    "    \"MNO\" : \"6\",\n",
    "    \"PQRS\" : \"7\",\n",
    "    \"TUV\" : \"8\",\n",
    "    \"WXYZ\" : \"9\",\n",
    "}\n",
    "\n",
    "def is_char_in_key(char: str, key: str) -> bool:\n",
    "    return char.upper() in key\n",
    "\n",
    "def format_phone_number(phone_number_string: str) -> str:\n",
    "    return f\"{phone_number_string[:3]}-{phone_number_string[3:6]}-{phone_number_string[6:]}\"\n",
    "\n",
    "\n",
    "\n",
    "def row_to_phone(row) -> str:\n",
    "    last_name = \"\".join(row['name'].split(\" \")[1:])\n",
    "    if len(last_name) != 10:\n",
    "        return \"\"\n",
    "    last_name = last_name.replace(\" \", \"\")\n",
    "    output_phone_num_str = \"\"\n",
    "    for character in last_name:\n",
    "        for key in t9_lookup.keys():\n",
    "            if is_char_in_key(character, key):\n",
    "                output_phone_num_str += t9_lookup[key]\n",
    "                break\n",
    "    return format_phone_number(output_phone_num_str)\n",
    "\n"
   ]
  },
  {
   "attachments": {},
   "cell_type": "markdown",
   "metadata": {},
   "source": [
    "## Name -> Phone lookup\n",
    "First, we want to try and match the person's name and their phone number using the convention:\n",
    "```\n",
    "ABC     : 2\n",
    "DEF     : 3\n",
    "GHI     : 4\n",
    "JKL     : 5\n",
    "MNO     : 6\n",
    "PQRS    : 7\n",
    "TUV     : 8\n",
    "WXYZ    : 9\n",
    "<space> : 0\n",
    "```"
   ]
  },
  {
   "cell_type": "code",
   "execution_count": null,
   "metadata": {},
   "outputs": [],
   "source": [
    "# Show just the interesting columns\n",
    "\n",
    "sub_df = df[['name', 'phone']]\n",
    "sub_df['name_to_phone'] = sub_df.apply(row_to_phone, axis=1)\n",
    "sanitized = sub_df.query(\"name_to_phone != '' \")\n",
    "sanitized['res'] = sanitized.phone == sanitized.name_to_phone\n",
    "\n",
    "\n",
    "result = sanitized.loc[sanitized['res'] == True]\n",
    "print(result)\n"
   ]
  },
  {
   "attachments": {},
   "cell_type": "markdown",
   "metadata": {},
   "source": [
    "# Day 2\n",
    "\n",
    "We're looking for soneone with initials JD in 2017, who bought coffee and bagels."
   ]
  },
  {
   "cell_type": "code",
   "execution_count": 8,
   "metadata": {},
   "outputs": [],
   "source": [
    "# Load three dataframes that we intend to cross over\n",
    "try:\n",
    "    with open(\"noahs-orders_items.csv\", \"r\") as rfp:\n",
    "        orders_items_df = pd.read_csv(rfp)\n",
    "except FileNotFoundError:\n",
    "    print(\"Failed to open the file.\")\n",
    "\n",
    "try:\n",
    "    with open(\"noahs-orders.csv\", \"r\") as rfp:\n",
    "        orders_df = pd.read_csv(rfp)\n",
    "except FileNotFoundError:\n",
    "    print(\"Failed to open the file.\")\n",
    "\n",
    "try:\n",
    "    with open(\"noahs-products.csv\", \"r\") as rfp:\n",
    "        products_df = pd.read_csv(rfp)\n",
    "except FileNotFoundError:\n",
    "    print(\"Failed to open the file.\")"
   ]
  },
  {
   "attachments": {},
   "cell_type": "markdown",
   "metadata": {},
   "source": [
    "## Find SKUs for Bagels and Coffee items"
   ]
  },
  {
   "cell_type": "code",
   "execution_count": 45,
   "metadata": {},
   "outputs": [],
   "source": [
    "[products_df.query(f\"desc == '{x}'\") for idx, x in enumerate(products_df['desc']) if \"coffee\" in x.lower()]\n",
    "\n",
    "# Out of all these products we can see that Coffe, Drip is with SKU DLI1464.\n",
    "# Now for the bagels\n",
    "\n",
    "[products_df.query(f\"desc == '{x}'\") for idx, x in enumerate(products_df['desc']) if \"bagel\" in x.lower()]\n",
    "\n",
    "# For bagels we have two interesting SKUs, BKY4234 and BKY5887.\n",
    "# Therefore,\n",
    "\n",
    "important_skus = [\"DLI1464\", \"BKY4234\", \"BKY5887\"]\n"
   ]
  },
  {
   "attachments": {},
   "cell_type": "markdown",
   "metadata": {},
   "source": [
    "## Find orderID for transactions involving these SKUS, in 2017"
   ]
  },
  {
   "cell_type": "code",
   "execution_count": null,
   "metadata": {},
   "outputs": [],
   "source": [
    "important_orders = orders_items_df[orders_items_df['sku'].isin(important_skus)]['orderid'].tolist()\n",
    "print(len(important_orders))\n",
    "important_orders"
   ]
  },
  {
   "attachments": {},
   "cell_type": "markdown",
   "metadata": {},
   "source": [
    "## Find customers by orderID"
   ]
  },
  {
   "cell_type": "code",
   "execution_count": 95,
   "metadata": {},
   "outputs": [],
   "source": [
    "important_customers = orders_df[orders_df['orderid'].isin(important_orders)]['customerid'].tolist()\n"
   ]
  },
  {
   "attachments": {},
   "cell_type": "markdown",
   "metadata": {},
   "source": [
    "## Find customer names\n"
   ]
  },
  {
   "cell_type": "code",
   "execution_count": null,
   "metadata": {},
   "outputs": [],
   "source": [
    "customers = df[df[\"customerid\"].isin(important_customers)]['name']\n",
    "customer_list = customers.tolist()\n",
    "\n",
    "def find_customer_with_initials(customer_list: list, initials: str) -> list:\n",
    "    names = []\n",
    "    for customer in customer_list:\n",
    "        split_name = customer.split(\" \")\n",
    "        if len(split_name) != 2:\n",
    "            continue\n",
    "        customer_initials = split_name[0][0] + split_name[1][0]\n",
    "        if customer_initials == initials.upper():\n",
    "            names.append(customer)\n",
    "    return names\n",
    "\n",
    "customer_names = find_customer_with_initials(customer_list, \"JD\")\n",
    "\n",
    "phones = df[df['name'].isin(customer_names)]['phone']\n",
    "print(phones)"
   ]
  }
 ],
 "metadata": {
  "kernelspec": {
   "display_name": "Python 3",
   "language": "python",
   "name": "python3"
  },
  "language_info": {
   "codemirror_mode": {
    "name": "ipython",
    "version": 3
   },
   "file_extension": ".py",
   "mimetype": "text/x-python",
   "name": "python",
   "nbconvert_exporter": "python",
   "pygments_lexer": "ipython3",
   "version": "3.8.2"
  },
  "orig_nbformat": 4,
  "vscode": {
   "interpreter": {
    "hash": "ee500ff6e9c36d7f2f2424e54d034f8daf15f06db15e6ba526fcb572cfa9fae7"
   }
  }
 },
 "nbformat": 4,
 "nbformat_minor": 2
}
