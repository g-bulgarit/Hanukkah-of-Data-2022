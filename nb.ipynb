{
 "cells": [
  {
   "cell_type": "code",
   "execution_count": 58,
   "metadata": {},
   "outputs": [],
   "source": [
    "import pandas as pd"
   ]
  },
  {
   "cell_type": "code",
   "execution_count": null,
   "metadata": {},
   "outputs": [],
   "source": []
  },
  {
   "cell_type": "code",
   "execution_count": null,
   "metadata": {},
   "outputs": [],
   "source": []
  },
  {
   "cell_type": "code",
   "execution_count": 123,
   "metadata": {},
   "outputs": [],
   "source": [
    "t9_lookup = {\n",
    "    \"ABC\" : \"2\",\n",
    "    \"DEF\" : \"3\",\n",
    "    \"GHI\" : \"4\",\n",
    "    \"JKL\" : \"5\",\n",
    "    \"MNO\" : \"6\",\n",
    "    \"PQRS\" : \"7\",\n",
    "    \"TUV\" : \"8\",\n",
    "    \"WXYZ\" : \"9\",\n",
    "}\n",
    "\n",
    "def is_char_in_key(char: str, key: str) -> bool:\n",
    "    return char.upper() in key\n",
    "\n",
    "def format_phone_number(phone_number_string: str) -> str:\n",
    "    return f\"{phone_number_string[:3]}-{phone_number_string[3:6]}-{phone_number_string[6:]}\"\n",
    "\n",
    "\n",
    "\n",
    "def row_to_phone(row) -> str:\n",
    "    last_name = \"\".join(row['name'].split(\" \")[1:])\n",
    "    if len(last_name) != 10:\n",
    "        return \"\"\n",
    "    last_name = last_name.replace(\" \", \"\")\n",
    "    output_phone_num_str = \"\"\n",
    "    for character in last_name:\n",
    "        for key in t9_lookup.keys():\n",
    "            if is_char_in_key(character, key):\n",
    "                output_phone_num_str += t9_lookup[key]\n",
    "                break\n",
    "    return format_phone_number(output_phone_num_str)\n",
    "\n"
   ]
  },
  {
   "attachments": {},
   "cell_type": "markdown",
   "metadata": {},
   "source": [
    "# Name -> Phone lookup\n",
    "First, we want to try and match the person's name and their phone number using the convention:\n",
    "```\n",
    "ABC     : 2\n",
    "DEF     : 3\n",
    "GHI     : 4\n",
    "JKL     : 5\n",
    "MNO     : 6\n",
    "PQRS    : 7\n",
    "TUV     : 8\n",
    "WXYZ    : 9\n",
    "<space> : 0\n",
    "```"
   ]
  },
  {
   "cell_type": "code",
   "execution_count": 124,
   "metadata": {},
   "outputs": [
    {
     "data": {
      "text/html": [
       "<div>\n",
       "<style scoped>\n",
       "    .dataframe tbody tr th:only-of-type {\n",
       "        vertical-align: middle;\n",
       "    }\n",
       "\n",
       "    .dataframe tbody tr th {\n",
       "        vertical-align: top;\n",
       "    }\n",
       "\n",
       "    .dataframe thead th {\n",
       "        text-align: right;\n",
       "    }\n",
       "</style>\n",
       "<table border=\"1\" class=\"dataframe\">\n",
       "  <thead>\n",
       "    <tr style=\"text-align: right;\">\n",
       "      <th></th>\n",
       "      <th>name</th>\n",
       "      <th>phone</th>\n",
       "    </tr>\n",
       "  </thead>\n",
       "  <tbody>\n",
       "    <tr>\n",
       "      <th>0</th>\n",
       "      <td>Jack Quinn</td>\n",
       "      <td>805-287-8515</td>\n",
       "    </tr>\n",
       "    <tr>\n",
       "      <th>1</th>\n",
       "      <td>David Powell</td>\n",
       "      <td>516-768-1652</td>\n",
       "    </tr>\n",
       "    <tr>\n",
       "      <th>2</th>\n",
       "      <td>Carrie Green</td>\n",
       "      <td>727-209-0470</td>\n",
       "    </tr>\n",
       "    <tr>\n",
       "      <th>3</th>\n",
       "      <td>Steven Miller</td>\n",
       "      <td>607-941-9563</td>\n",
       "    </tr>\n",
       "    <tr>\n",
       "      <th>4</th>\n",
       "      <td>Christine Powers</td>\n",
       "      <td>212-759-9043</td>\n",
       "    </tr>\n",
       "    <tr>\n",
       "      <th>...</th>\n",
       "      <td>...</td>\n",
       "      <td>...</td>\n",
       "    </tr>\n",
       "    <tr>\n",
       "      <th>11075</th>\n",
       "      <td>Catherine Wells</td>\n",
       "      <td>716-656-2836</td>\n",
       "    </tr>\n",
       "    <tr>\n",
       "      <th>11076</th>\n",
       "      <td>Kevin Cooper</td>\n",
       "      <td>315-496-6981</td>\n",
       "    </tr>\n",
       "    <tr>\n",
       "      <th>11077</th>\n",
       "      <td>Darius Johnson</td>\n",
       "      <td>716-797-4450</td>\n",
       "    </tr>\n",
       "    <tr>\n",
       "      <th>11078</th>\n",
       "      <td>Ryan Jones</td>\n",
       "      <td>415-584-2656</td>\n",
       "    </tr>\n",
       "    <tr>\n",
       "      <th>11079</th>\n",
       "      <td>Gregory Weiss</td>\n",
       "      <td>516-736-1869</td>\n",
       "    </tr>\n",
       "  </tbody>\n",
       "</table>\n",
       "<p>11080 rows × 2 columns</p>\n",
       "</div>"
      ],
      "text/plain": [
       "                   name         phone\n",
       "0            Jack Quinn  805-287-8515\n",
       "1          David Powell  516-768-1652\n",
       "2          Carrie Green  727-209-0470\n",
       "3         Steven Miller  607-941-9563\n",
       "4      Christine Powers  212-759-9043\n",
       "...                 ...           ...\n",
       "11075   Catherine Wells  716-656-2836\n",
       "11076      Kevin Cooper  315-496-6981\n",
       "11077    Darius Johnson  716-797-4450\n",
       "11078        Ryan Jones  415-584-2656\n",
       "11079     Gregory Weiss  516-736-1869\n",
       "\n",
       "[11080 rows x 2 columns]"
      ]
     },
     "execution_count": 124,
     "metadata": {},
     "output_type": "execute_result"
    }
   ],
   "source": [
    "# Load our file\n",
    "try:\n",
    "    with open(\"noahs-customers.csv\", \"r\") as rfp:\n",
    "        df = pd.read_csv(rfp)\n",
    "except FileNotFoundError:\n",
    "    print(\"Failed to open the file.\")\n",
    "\n",
    "df[['name', 'phone']]"
   ]
  },
  {
   "cell_type": "code",
   "execution_count": 126,
   "metadata": {},
   "outputs": [
    {
     "name": "stdout",
     "output_type": "stream",
     "text": [
      "                name         phone name_to_phone   res\n",
      "2187  Sam Guttenberg  488-836-2374  488-836-2374  True\n"
     ]
    },
    {
     "name": "stderr",
     "output_type": "stream",
     "text": [
      "C:\\Users\\AlonBudker\\AppData\\Local\\Temp\\ipykernel_16040\\3647097142.py:4: SettingWithCopyWarning: \n",
      "A value is trying to be set on a copy of a slice from a DataFrame.\n",
      "Try using .loc[row_indexer,col_indexer] = value instead\n",
      "\n",
      "See the caveats in the documentation: https://pandas.pydata.org/pandas-docs/stable/user_guide/indexing.html#returning-a-view-versus-a-copy\n",
      "  sub_df['name_to_phone'] = sub_df.apply(row_to_phone, axis=1)\n",
      "C:\\Users\\AlonBudker\\AppData\\Local\\Temp\\ipykernel_16040\\3647097142.py:6: SettingWithCopyWarning: \n",
      "A value is trying to be set on a copy of a slice from a DataFrame.\n",
      "Try using .loc[row_indexer,col_indexer] = value instead\n",
      "\n",
      "See the caveats in the documentation: https://pandas.pydata.org/pandas-docs/stable/user_guide/indexing.html#returning-a-view-versus-a-copy\n",
      "  sanitized['res'] = sanitized.phone == sanitized.name_to_phone\n"
     ]
    }
   ],
   "source": [
    "# Show just the interesting columns\n",
    "\n",
    "sub_df = df[['name', 'phone']]\n",
    "sub_df['name_to_phone'] = sub_df.apply(row_to_phone, axis=1)\n",
    "sanitized = sub_df.query(\"name_to_phone != '' \")\n",
    "sanitized['res'] = sanitized.phone == sanitized.name_to_phone\n",
    "\n",
    "\n",
    "result = sanitized.loc[sanitized['res'] == True]\n",
    "print(result)\n"
   ]
  },
  {
   "cell_type": "code",
   "execution_count": null,
   "metadata": {},
   "outputs": [],
   "source": []
  },
  {
   "cell_type": "code",
   "execution_count": null,
   "metadata": {},
   "outputs": [],
   "source": []
  },
  {
   "cell_type": "code",
   "execution_count": null,
   "metadata": {},
   "outputs": [],
   "source": []
  }
 ],
 "metadata": {
  "kernelspec": {
   "display_name": "Python 3",
   "language": "python",
   "name": "python3"
  },
  "language_info": {
   "codemirror_mode": {
    "name": "ipython",
    "version": 3
   },
   "file_extension": ".py",
   "mimetype": "text/x-python",
   "name": "python",
   "nbconvert_exporter": "python",
   "pygments_lexer": "ipython3",
   "version": "3.8.2"
  },
  "orig_nbformat": 4,
  "vscode": {
   "interpreter": {
    "hash": "ee500ff6e9c36d7f2f2424e54d034f8daf15f06db15e6ba526fcb572cfa9fae7"
   }
  }
 },
 "nbformat": 4,
 "nbformat_minor": 2
}
